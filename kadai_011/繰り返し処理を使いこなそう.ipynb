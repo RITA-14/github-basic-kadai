{
  "nbformat": 4,
  "nbformat_minor": 0,
  "metadata": {
    "colab": {
      "provenance": []
    },
    "kernelspec": {
      "name": "python3",
      "display_name": "Python 3"
    },
    "language_info": {
      "name": "python"
    }
  },
  "cells": [
    {
      "cell_type": "code",
      "execution_count": null,
      "metadata": {
        "colab": {
          "base_uri": "https://localhost:8080/"
        },
        "id": "sGXyoPuXWU1q",
        "outputId": "5ac31e29-aceb-4763-871f-c3b842b34467"
      },
      "outputs": [
        {
          "output_type": "stream",
          "name": "stdout",
          "text": [
            "3\n"
          ]
        }
      ],
      "source": [
        "print(1+2)"
      ]
    },
    {
      "cell_type": "code",
      "source": [
        "age = 18 # 年齢\n",
        "\n",
        "if age < 20:\n",
        " # 未成年の場合\n",
        " print(\"ジュースで乾杯!\")\n",
        "else:\n",
        " # 青年の場合\n",
        " print(\"お酒で乾杯!\")"
      ],
      "metadata": {
        "colab": {
          "base_uri": "https://localhost:8080/"
        },
        "id": "HLB2QZkCgEBF",
        "outputId": "ccd8b1f0-8a8f-4e7a-ab41-df790b925898"
      },
      "execution_count": null,
      "outputs": [
        {
          "output_type": "stream",
          "name": "stdout",
          "text": [
            "ジュースで乾杯!\n"
          ]
        }
      ]
    },
    {
      "cell_type": "code",
      "source": [
        "print(45 + 18)\n",
        "print(30 - 12)\n",
        "print(15 * 6)\n",
        "print(30 /3)\n",
        "print(45 % 8)"
      ],
      "metadata": {
        "colab": {
          "base_uri": "https://localhost:8080/"
        },
        "id": "9kgxFbd4hkui",
        "outputId": "e6e0ecdc-03d0-49aa-9678-faa3028ce1f9"
      },
      "execution_count": null,
      "outputs": [
        {
          "output_type": "stream",
          "name": "stdout",
          "text": [
            "63\n",
            "18\n",
            "90\n",
            "10.0\n",
            "5\n"
          ]
        }
      ]
    },
    {
      "cell_type": "code",
      "source": [
        "print(45 + 1.8)\n",
        "print(3 - 1,2)\n",
        "print(15 * 0.6)\n",
        "print(3 / 0.3)\n",
        "print(45 % 0.8)"
      ],
      "metadata": {
        "colab": {
          "base_uri": "https://localhost:8080/"
        },
        "id": "kNYhYKaNhoux",
        "outputId": "fc7282cb-611a-47a5-cda9-2ffff0b0b459"
      },
      "execution_count": null,
      "outputs": [
        {
          "output_type": "stream",
          "name": "stdout",
          "text": [
            "46.8\n",
            "2 2\n",
            "9.0\n",
            "10.0\n",
            "0.1999999999999975\n"
          ]
        }
      ]
    },
    {
      "cell_type": "code",
      "source": [
        "print(\"今日の天気は\" + \"晴れ\")\n",
        "print(\"今日の天気は\" \"曇り\")"
      ],
      "metadata": {
        "id": "qsXPrtHLXvXR",
        "colab": {
          "base_uri": "https://localhost:8080/"
        },
        "outputId": "1bc96c31-9029-4d3a-d597-05af269929d3"
      },
      "execution_count": null,
      "outputs": [
        {
          "output_type": "stream",
          "name": "stdout",
          "text": [
            "今日の天気は晴れ\n",
            "今日の天気は曇り\n"
          ]
        }
      ]
    },
    {
      "cell_type": "code",
      "source": [
        "print(\"降水確率\" + str(50) + \"%\")"
      ],
      "metadata": {
        "colab": {
          "base_uri": "https://localhost:8080/"
        },
        "id": "GXyi1Tw3jil2",
        "outputId": "31ade2ce-2af1-45dd-c187-e6954a6cb358"
      },
      "execution_count": null,
      "outputs": [
        {
          "output_type": "stream",
          "name": "stdout",
          "text": [
            "降水確率50%\n"
          ]
        }
      ]
    },
    {
      "cell_type": "code",
      "source": [
        "print(\"晴れ\" *5)\n",
        "print(\"晴れ\"+ \"晴れ\" + \"晴れ\" + \"晴れ\" + \"晴れ\")"
      ],
      "metadata": {
        "colab": {
          "base_uri": "https://localhost:8080/"
        },
        "id": "lYhLjxggwKP8",
        "outputId": "69343340-8931-45e1-d8f8-9d991387ccd7"
      },
      "execution_count": null,
      "outputs": [
        {
          "output_type": "stream",
          "name": "stdout",
          "text": [
            "晴れ晴れ晴れ晴れ晴れ\n",
            "晴れ晴れ晴れ晴れ晴れ\n"
          ]
        }
      ]
    },
    {
      "cell_type": "code",
      "source": [
        "user_name = \"侍太郎\"\n",
        "print(user_name)"
      ],
      "metadata": {
        "colab": {
          "base_uri": "https://localhost:8080/"
        },
        "id": "gSPFmA7bxuG8",
        "outputId": "d828dc3a-8f66-4c7c-a100-9835a192621a"
      },
      "execution_count": null,
      "outputs": [
        {
          "output_type": "stream",
          "name": "stdout",
          "text": [
            "侍太郎\n"
          ]
        }
      ]
    },
    {
      "cell_type": "code",
      "source": [
        "user_name = \"侍太郎\"\n",
        "print(user_name)\n",
        "\n",
        "user_name = \"侍花子\"\n",
        "print(user_name)"
      ],
      "metadata": {
        "colab": {
          "base_uri": "https://localhost:8080/"
        },
        "id": "VMt20u5wyHzx",
        "outputId": "ab7d82f8-ce7e-4f63-8231-52bb4ab0380e"
      },
      "execution_count": null,
      "outputs": [
        {
          "output_type": "stream",
          "name": "stdout",
          "text": [
            "侍太郎\n",
            "侍花子\n"
          ]
        }
      ]
    },
    {
      "cell_type": "code",
      "source": [
        "# 整数型と不動小数点の足し算\n",
        "number1 = 5\n",
        "number2 = 2.5\n",
        "print(number1 + number2)\n",
        "\n",
        "#　文字列型と文字列型の連結\n",
        "last_name = \"侍\"\n",
        "first_name = \"太郎\"\n",
        "print(last_name + first_name)"
      ],
      "metadata": {
        "colab": {
          "base_uri": "https://localhost:8080/"
        },
        "id": "vPg4Mrl0yglY",
        "outputId": "7b5bb405-7234-4ff1-e2bb-4bf2f0735f95"
      },
      "execution_count": null,
      "outputs": [
        {
          "output_type": "stream",
          "name": "stdout",
          "text": [
            "7.5\n",
            "侍太郎\n"
          ]
        }
      ]
    },
    {
      "cell_type": "code",
      "source": [
        "last_name = \"侍\"\n",
        "first_name = \"太郎\"\n",
        "sister_name = \"花子\"\n",
        "\n",
        "# 3つの変数を文字列内に埋め込んで表示\n",
        "print(f\"私の名前は{last_name}{first_name}です。妹の名前は{sister_name}です。\")"
      ],
      "metadata": {
        "colab": {
          "base_uri": "https://localhost:8080/"
        },
        "id": "plZFno5dzt5N",
        "outputId": "6db64e26-26ec-405f-ce3a-7ee2a83e4ddb"
      },
      "execution_count": null,
      "outputs": [
        {
          "output_type": "stream",
          "name": "stdout",
          "text": [
            "私の名前は侍太郎です。妹の名前は花子です。\n"
          ]
        }
      ]
    },
    {
      "cell_type": "code",
      "source": [
        "    #上辺 = x , 下辺 = y , 高さ = z , 単位 = \"cm\"\n",
        "x = 10\n",
        "y = 20\n",
        "z = 5\n",
        "    #計算式\n",
        "answer = ((x + y) * z / 2)\n",
        "print(f\"台形の面積= {answer}cm²\")\n"
      ],
      "metadata": {
        "colab": {
          "base_uri": "https://localhost:8080/"
        },
        "id": "Mq2rqGkk7RUr",
        "outputId": "69190846-864f-4e3c-a20b-0e2bb69a50aa"
      },
      "execution_count": null,
      "outputs": [
        {
          "output_type": "stream",
          "name": "stdout",
          "text": [
            "台形の面積= 75.0cm²\n"
          ]
        }
      ]
    },
    {
      "cell_type": "code",
      "source": [
        "user_names = [\"侍太郎\", \"侍一郎\", \"侍二郎\", \"侍三郎\", \"侍四郎\"]\n",
        "#　2番目の要素を更新する\n",
        "user_names[1] = \"侍花子\"\n",
        "print(user_names)"
      ],
      "metadata": {
        "colab": {
          "base_uri": "https://localhost:8080/"
        },
        "id": "ItdD6RN5LiB3",
        "outputId": "ff19f517-8779-4fb8-aeb0-87feac88ad71"
      },
      "execution_count": null,
      "outputs": [
        {
          "output_type": "stream",
          "name": "stdout",
          "text": [
            "['侍太郎', '侍花子', '侍二郎', '侍三郎', '侍四郎']\n"
          ]
        }
      ]
    },
    {
      "cell_type": "code",
      "source": [
        "user_names = [\"侍太郎\", \"侍一郎\", \"侍二郎\", \"侍三郎\", \"侍四郎\"]\n",
        "#　6番目の要素を追加する\n",
        "user_names.append(\"侍五郎\")\n",
        "print(user_names)\n",
        "\n",
        "# 3番目の要素を削除する\n",
        "user_names.pop(2) # 0始りのため、3番目のインデックスは2\n",
        "print(user_names)"
      ],
      "metadata": {
        "colab": {
          "base_uri": "https://localhost:8080/"
        },
        "id": "ODZxxXX0MdaM",
        "outputId": "2f85849e-c2e7-489c-bffa-df50080f87d5"
      },
      "execution_count": null,
      "outputs": [
        {
          "output_type": "stream",
          "name": "stdout",
          "text": [
            "['侍太郎', '侍一郎', '侍二郎', '侍三郎', '侍四郎', '侍五郎']\n",
            "['侍太郎', '侍一郎', '侍三郎', '侍四郎', '侍五郎']\n"
          ]
        }
      ]
    },
    {
      "cell_type": "code",
      "source": [
        "user_names = [\"侍太郎\", \"侍一郎\", \"侍二郎\", \"侍三郎\", \"侍四郎\"]\n",
        "print(user_names[1])#2番目の要素だけ表示\n",
        "user_names[1] = \"侍花子\"#　2番目の要素を更新\n",
        "print(user_names)\n",
        "user_names.append(\"侍五郎\")#　6番目の要素を追加する\n",
        "print(user_names)\n",
        "user_names.pop(2) # 3番目の要素を削除(0始りのため2を指定)\n",
        "print(user_names)"
      ],
      "metadata": {
        "colab": {
          "base_uri": "https://localhost:8080/"
        },
        "id": "eu65QaA1NWZA",
        "outputId": "fc5e8b50-6079-4c0c-ff01-c44dd7994776"
      },
      "execution_count": null,
      "outputs": [
        {
          "output_type": "stream",
          "name": "stdout",
          "text": [
            "侍一郎\n",
            "['侍太郎', '侍花子', '侍二郎', '侍三郎', '侍四郎']\n",
            "['侍太郎', '侍花子', '侍二郎', '侍三郎', '侍四郎', '侍五郎']\n",
            "['侍太郎', '侍花子', '侍三郎', '侍四郎', '侍五郎']\n"
          ]
        }
      ]
    },
    {
      "cell_type": "code",
      "source": [
        "country_names = (\"日本\", \"アメリカ\", \"イギリス\", \"フランス\")\n",
        "# 3番目の要素である｢イギリス｣という文字だけを取り出す\n",
        "print(country_names[2])\n",
        "print(country_names)"
      ],
      "metadata": {
        "colab": {
          "base_uri": "https://localhost:8080/"
        },
        "id": "MsXhFhKXPBW6",
        "outputId": "a9a79da1-d332-4f76-d7c7-45f5a69b4a56"
      },
      "execution_count": null,
      "outputs": [
        {
          "output_type": "stream",
          "name": "stdout",
          "text": [
            "イギリス\n",
            "('日本', 'アメリカ', 'イギリス', 'フランス')\n"
          ]
        }
      ]
    },
    {
      "cell_type": "code",
      "source": [
        "country_names = (\"日本\", \"アメリカ\", \"イギリス\", \"フランス\")\n",
        "# 3番目の要素を取り出す\n",
        "print(country_names[2])\n",
        "# すべての要素を取り出す\n",
        "print(country_names)"
      ],
      "metadata": {
        "colab": {
          "base_uri": "https://localhost:8080/"
        },
        "id": "Wv3INSC9QFXf",
        "outputId": "8d94eefd-f4d3-4527-8a2d-f7dc1c8434c7"
      },
      "execution_count": null,
      "outputs": [
        {
          "output_type": "stream",
          "name": "stdout",
          "text": [
            "イギリス\n",
            "('日本', 'アメリカ', 'イギリス', 'フランス')\n"
          ]
        }
      ]
    },
    {
      "cell_type": "code",
      "source": [
        "country_names = {\"アメリカ\", \"イギリス\", \"日本\", \"フランス\"}\n",
        "# セット全体を表示\n",
        "print(country_names)"
      ],
      "metadata": {
        "colab": {
          "base_uri": "https://localhost:8080/"
        },
        "id": "gLayAI6FQygD",
        "outputId": "257ce0c4-0ccc-47f5-bf87-61720affb52a"
      },
      "execution_count": null,
      "outputs": [
        {
          "output_type": "stream",
          "name": "stdout",
          "text": [
            "{'フランス', 'アメリカ', 'イギリス', '日本'}\n"
          ]
        }
      ]
    },
    {
      "cell_type": "code",
      "source": [
        "prime_numbers = {2, 5, 2, 7, 3, 5, 5 }\n",
        "# セット全体を表示\n",
        "print(prime_numbers)"
      ],
      "metadata": {
        "colab": {
          "base_uri": "https://localhost:8080/"
        },
        "id": "sVYYicrFQynA",
        "outputId": "1e3ec269-8610-42bd-fe21-748fe8370ead"
      },
      "execution_count": null,
      "outputs": [
        {
          "output_type": "stream",
          "name": "stdout",
          "text": [
            "{2, 3, 5, 7}\n"
          ]
        }
      ]
    },
    {
      "cell_type": "code",
      "source": [
        "# 1～10までに含まれる素数のセット\n",
        "prime_numbers = {2, 3, 5, 7}\n",
        "# セット全体を表示\n",
        "print(prime_numbers)\n",
        "prime_numbers.add(11)# 11をセットに追加\n",
        "print(prime_numbers)\n",
        "prime_numbers.remove(3)# セットから3を削除\n",
        "print(prime_numbers)"
      ],
      "metadata": {
        "colab": {
          "base_uri": "https://localhost:8080/"
        },
        "id": "xfRzQmF3Sj-E",
        "outputId": "164c84bf-0fdf-48bf-8bb1-4c7acfde27d5"
      },
      "execution_count": null,
      "outputs": [
        {
          "output_type": "stream",
          "name": "stdout",
          "text": [
            "{2, 3, 5, 7}\n",
            "{2, 3, 5, 7, 11}\n",
            "{2, 5, 7, 11}\n"
          ]
        }
      ]
    },
    {
      "cell_type": "code",
      "source": [
        "country_names = {\"アメリカ\", \"イギリス\", \"日本\", \"フランス\"}\n",
        "# セット全体を表示\n",
        "print(country_names)\n",
        "country_names.add(\"ドイツ\")# 「ドイツ」をセットに追加\n",
        "print(country_names)\n",
        "country_names.remove(\"イギリス\")# セットから「イギリス」を削除\n",
        "print(country_names)"
      ],
      "metadata": {
        "colab": {
          "base_uri": "https://localhost:8080/"
        },
        "id": "ZoR2QuKISkJP",
        "outputId": "65f5d677-90d2-4f93-ebb4-7c230dce51d3"
      },
      "execution_count": null,
      "outputs": [
        {
          "output_type": "stream",
          "name": "stdout",
          "text": [
            "{'フランス', 'アメリカ', 'イギリス', '日本'}\n",
            "{'ドイツ', 'イギリス', 'フランス', 'アメリカ', '日本'}\n",
            "{'ドイツ', 'フランス', 'アメリカ', '日本'}\n"
          ]
        }
      ]
    },
    {
      "cell_type": "code",
      "source": [
        "stationery_prices = {\"鉛筆\": 70, \"ボールペン\": 120, \"シャープペンシル\": 150, \"消しゴム\": 90}\n",
        "# ボールペンの価格を取り出して表示\n",
        "print(stationery_prices[\"ボールペン\"])\n",
        "print(stationery_prices)"
      ],
      "metadata": {
        "colab": {
          "base_uri": "https://localhost:8080/"
        },
        "id": "OvOkHYxlYVGr",
        "outputId": "87a10dfd-57a4-42e5-cdff-8d25f5053733"
      },
      "execution_count": null,
      "outputs": [
        {
          "output_type": "stream",
          "name": "stdout",
          "text": [
            "120\n",
            "{'鉛筆': 70, 'ボールペン': 120, 'シャープペンシル': 150, '消しゴム': 90}\n"
          ]
        }
      ]
    },
    {
      "cell_type": "code",
      "source": [
        "sports = {1: \"サッカー\", 2: \"野球\", 3:\"バスケット\"}\n",
        "# キー[2]の値を「バドミントン」に置き換える\n",
        "sports[2] = \"バドミントン\"\n",
        "# キー[4]として「水泳」を追加する\n",
        "sports[4] = \"水泳\"\n",
        "# 連想配列全体を取り出して表示\n",
        "print(sports)"
      ],
      "metadata": {
        "colab": {
          "base_uri": "https://localhost:8080/"
        },
        "id": "yXUD9kOZYVSh",
        "outputId": "5224c728-b933-4dc5-ffac-64a9942c1df5"
      },
      "execution_count": null,
      "outputs": [
        {
          "output_type": "stream",
          "name": "stdout",
          "text": [
            "{1: 'サッカー', 2: 'バドミントン', 3: 'バスケット', 4: '水泳'}\n"
          ]
        }
      ]
    },
    {
      "cell_type": "code",
      "source": [
        "stationery_prices = {\"鉛筆\": 70, \"ボールペン\": 120, \"シャープペンシル\": 150, \"消しゴム\": 90}\n",
        "# 「シャープペンシル」を要素ごと削除\n",
        "stationery_prices.pop(\"シャープペンシル\")\n",
        "# 連想配列全体を取り出して表示\n",
        "print(stationery_prices)"
      ],
      "metadata": {
        "colab": {
          "base_uri": "https://localhost:8080/"
        },
        "id": "Jd4xxvxqbhQ9",
        "outputId": "25fa0d56-1af8-4816-a195-65b5a1de2941"
      },
      "execution_count": null,
      "outputs": [
        {
          "output_type": "stream",
          "name": "stdout",
          "text": [
            "{'鉛筆': 70, 'ボールペン': 120, '消しゴム': 90}\n"
          ]
        }
      ]
    },
    {
      "cell_type": "code",
      "source": [
        "# 連想配列を作成\n",
        "personal_date = {\"name\": \"侍太郎\", \"age\": 36, \"gender\": \"男性\"}\n",
        "# キー「name」の値を表示\n",
        "print(personal_date[\"name\"])\n",
        "# 連想配列全体を表示\n",
        "print(personal_date)\n",
        "# キー「age」の値を更新\n",
        "personal_date[\"age\"] = 37\n",
        "# 新しく要素（キーと値）を追加\n",
        "personal_date[\"address\"] = \"東京都\"\n",
        "# 連想配列全体を表示\n",
        "print(personal_date)"
      ],
      "metadata": {
        "colab": {
          "base_uri": "https://localhost:8080/"
        },
        "id": "VrEzL7JDbhUP",
        "outputId": "32cd91ef-1422-4db9-8bb5-1188871f7dd4"
      },
      "execution_count": null,
      "outputs": [
        {
          "output_type": "stream",
          "name": "stdout",
          "text": [
            "侍太郎\n",
            "{'name': '侍太郎', 'age': 36, 'gender': '男性'}\n",
            "{'name': '侍太郎', 'age': 37, 'gender': '男性', 'address': '東京都'}\n"
          ]
        }
      ]
    },
    {
      "cell_type": "code",
      "source": [
        "# リスト=arrayで作成\n",
        "array = [\"月曜日は晴れです\", \"火曜日は雨です\", \"水曜日は晴れです\", \"木曜日は晴れです\", \"金曜日は曇りです\", \"土曜日は曇りのち雨です\", \"日曜日は雷雨です\"]\n",
        "# 連想配列=dictionaryで作成\n",
        "dictionary = {\"mon\": \"晴れ\", \"tue\": \"雨\", \"wed\": \"晴れ\", \"thu\": \"晴れ\", \"fri\": \"曇り\", \"sat\": \"曇りのち雨\", \"sun\": \"雷雨\"}\n",
        "#　リストから水曜日の天気予報を表示\n",
        "print(array[2])\n",
        "# ディクショナリーから水曜日の天気予報を表示\n",
        "print(dictionary[\"wed\"])"
      ],
      "metadata": {
        "colab": {
          "base_uri": "https://localhost:8080/"
        },
        "id": "5e85vbJOgRHi",
        "outputId": "ee06e7f4-23ed-4e9f-e99e-a695077b913a"
      },
      "execution_count": null,
      "outputs": [
        {
          "output_type": "stream",
          "name": "stdout",
          "text": [
            "水曜日は晴れです\n",
            "晴れ\n"
          ]
        }
      ]
    },
    {
      "cell_type": "code",
      "source": [
        "print(45 + 18) # 算術演算子を使った場合の戻り値を出力する\n",
        "print(45 > 18) # 比較演算子を使った場合の戻り値を出力する"
      ],
      "metadata": {
        "colab": {
          "base_uri": "https://localhost:8080/"
        },
        "id": "dPXGzqkry706",
        "outputId": "45fd7298-3e23-452c-9db5-929910864c17"
      },
      "execution_count": null,
      "outputs": [
        {
          "output_type": "stream",
          "name": "stdout",
          "text": [
            "63\n",
            "True\n"
          ]
        }
      ]
    },
    {
      "cell_type": "code",
      "source": [
        "num1 = 5\n",
        "num2 = \"5\"\n",
        "if num1 == int(num2):\n",
        "      print(\"num1とnum2は等しいです\")"
      ],
      "metadata": {
        "colab": {
          "base_uri": "https://localhost:8080/"
        },
        "id": "2Irt2xPv0K3Q",
        "outputId": "bcb61fe6-88c9-4092-e85b-b5c8f19b5fbc"
      },
      "execution_count": null,
      "outputs": [
        {
          "output_type": "stream",
          "name": "stdout",
          "text": [
            "num1とnum2は等しいです\n"
          ]
        }
      ]
    },
    {
      "cell_type": "code",
      "source": [
        "# ランダムな整数を利用するために、randomモジュールをインポート\n",
        "import random\n",
        "# 変数numに0～4までのランダムな整数を代入する\n",
        "num = random.randint(0, 4)\n",
        "# 変数のnumの値を出力\n",
        "print(num)\n",
        "# 変数のnumの値が4であれば、「大当たりです」という文字列を出力する\n",
        "if num == 4:\n",
        "    print(\"大当たりです\")"
      ],
      "metadata": {
        "colab": {
          "base_uri": "https://localhost:8080/"
        },
        "id": "Z1q_jgKk0fgR",
        "outputId": "955ea58a-a9e9-46ff-befc-16b07b57b4b0"
      },
      "execution_count": null,
      "outputs": [
        {
          "output_type": "stream",
          "name": "stdout",
          "text": [
            "4\n",
            "大当たりです\n"
          ]
        }
      ]
    },
    {
      "cell_type": "code",
      "source": [
        "# ランダムな整数を利用するために、randomモジュールをインポート\n",
        "import random\n",
        "\n",
        "# 変数numに0～4までのランダムな整数を代入する\n",
        "num = random.randint(0, 4)\n",
        "\n",
        "# 変数のnumの値を出力\n",
        "print(num)\n",
        "\n",
        "# 変数のnumの値が4であれば、「大当たりです」、それ以外なら「はずれです」と出力する\n",
        "if num == 4:\n",
        "    print(\"大当たりです\")\n",
        "else:\n",
        "    print(\"はずれです\")"
      ],
      "metadata": {
        "colab": {
          "base_uri": "https://localhost:8080/"
        },
        "id": "nqMQCzm_0fiz",
        "outputId": "8e3ff546-bfac-46f4-deb3-76ea6c779b54"
      },
      "execution_count": null,
      "outputs": [
        {
          "output_type": "stream",
          "name": "stdout",
          "text": [
            "2\n",
            "はずれです\n"
          ]
        }
      ]
    },
    {
      "cell_type": "code",
      "source": [
        "# ランダムな整数を利用するために、randomモジュールをインポート\n",
        "import random\n",
        "\n",
        "# 変数numに0～4までのランダムな整数を代入する\n",
        "num = random.randint(0, 4)\n",
        "\n",
        "# 変数のnumの値を出力\n",
        "print(num)\n",
        "\n",
        "# 変数のnumの値が4であれば、「大当たりです」、3なら「当たりです」、それ以外なら「はずれです」と出力する\n",
        "if num == 4:\n",
        "    print(\"大当たりです\")\n",
        "elif num == 3:\n",
        "    print(\"当たりです\")\n",
        "else:\n",
        "    print(\"はずれです\")"
      ],
      "metadata": {
        "colab": {
          "base_uri": "https://localhost:8080/"
        },
        "id": "nT2_Vzlc0flO",
        "outputId": "509acfe7-95b2-4c4f-9647-8bb2a66cd0f2"
      },
      "execution_count": null,
      "outputs": [
        {
          "output_type": "stream",
          "name": "stdout",
          "text": [
            "3\n",
            "当たりです\n"
          ]
        }
      ]
    },
    {
      "cell_type": "code",
      "source": [
        "# ランダムな整数を利用するために、randomモジュールをインポート\n",
        "import random\n",
        "\n",
        "# 変数numに0～4までのランダムな整数を代入する\n",
        "num = random.randint(0, 4)\n",
        "\n",
        "# 変数のnumの値を出力\n",
        "print(num)\n",
        "\n",
        "# すべての条件が成り立つ場合にのみ処理を行う(変数numの値が2)\n",
        "if 1 < num  < 3:\n",
        "    print(\"変数numは1より大きく、3より小さいです\")\n",
        "else:\n",
        "    print(\"and条件が成り立ちませんでした\")\n",
        "\n",
        "# 1つでも条件が成り立てば処理を行う(変数numの値が1または3)\n",
        "if num == 1 or num == 3:\n",
        "    print(\"変数numは1または3です\")\n",
        "else:\n",
        "    print(\"or条件が成り立ちませんでした\")"
      ],
      "metadata": {
        "colab": {
          "base_uri": "https://localhost:8080/"
        },
        "id": "6LNW3A-20fnn",
        "outputId": "6e31633e-67fb-4ae9-97ed-4e151f92cf1d"
      },
      "execution_count": null,
      "outputs": [
        {
          "output_type": "stream",
          "name": "stdout",
          "text": [
            "4\n",
            "and条件が成り立ちませんでした\n",
            "or条件が成り立ちませんでした\n"
          ]
        }
      ]
    },
    {
      "cell_type": "code",
      "source": [
        "# ランダムな整数を利用するために、randomモジュールをインポート\n",
        "import random\n",
        "\n",
        "# 変数varに1～15までのランダムな整数を代入する\n",
        "var = random.randint(1, 15)\n",
        "\n",
        "# 変数varの値を出力\n",
        "print(var)\n",
        "\n",
        "# 変数varが、3の倍数と5の倍数の両方に該当する場合は「FizzBuzz」を出力\n",
        "if var % 3 == 0 and var % 5 == 0:\n",
        "    print(\"FizzBuzz\")\n",
        "\n",
        "# 変数varが、3の倍数の場合は「Fizz」を出力\n",
        "elif var % 3 == 0:\n",
        "    print(\"Fizz\")\n",
        "\n",
        "# 変数varが、5の倍数の場合は「Buzz」を出力\n",
        "elif var % 5 == 0:\n",
        "    print(\"Buzz\")\n",
        "\n",
        "# 上記どの場合にも該当しない場合は、変数varの値を出力\n",
        "else:\n",
        "    print(var)"
      ],
      "metadata": {
        "colab": {
          "base_uri": "https://localhost:8080/"
        },
        "id": "xi0-8qpI0fqZ",
        "outputId": "5e4551ed-537e-4165-f407-c5259451990a"
      },
      "execution_count": null,
      "outputs": [
        {
          "output_type": "stream",
          "name": "stdout",
          "text": [
            "15\n",
            "FizzBuzz\n"
          ]
        }
      ]
    },
    {
      "cell_type": "code",
      "source": [
        "for i in range(1, 11):\n",
        "    print(i)"
      ],
      "metadata": {
        "id": "MqFHZqAB0ft_",
        "colab": {
          "base_uri": "https://localhost:8080/"
        },
        "outputId": "8d8c0e2c-b650-4f44-9165-72fd333ca4e7"
      },
      "execution_count": 1,
      "outputs": [
        {
          "output_type": "stream",
          "name": "stdout",
          "text": [
            "1\n",
            "2\n",
            "3\n",
            "4\n",
            "5\n",
            "6\n",
            "7\n",
            "8\n",
            "9\n",
            "10\n"
          ]
        }
      ]
    },
    {
      "cell_type": "code",
      "source": [
        "for i in range(1, 11):\n",
        "    print(i)\n",
        "    # ループ変数の値が5であれば、break分で繰り返し処理を強制終了する\n",
        "    if i == 5:\n",
        "        break"
      ],
      "metadata": {
        "colab": {
          "base_uri": "https://localhost:8080/"
        },
        "id": "1wS1bjCWdClj",
        "outputId": "a1134723-c6f7-49fd-a439-abef08632bee"
      },
      "execution_count": 2,
      "outputs": [
        {
          "output_type": "stream",
          "name": "stdout",
          "text": [
            "1\n",
            "2\n",
            "3\n",
            "4\n",
            "5\n"
          ]
        }
      ]
    },
    {
      "cell_type": "code",
      "source": [
        "#ランダムな整数を利用するために、記述\n",
        "import random\n",
        "for i in range(1, 11):\n",
        "   #変数numに1~20までのランダムな整数を代入する\n",
        "   num = random.randint(1,20)\n",
        "\n",
        "   print(f\"{i}回目の結果は{num}です。\")\n",
        "\n",
        "   #変数numの値が20であれば、break文で繰り返し処理を強制終了する\n",
        "   if num == 20:\n",
        "      print(\"20が出たので繰り返し処理を強制終了します。\")\n",
        "      break"
      ],
      "metadata": {
        "colab": {
          "base_uri": "https://localhost:8080/"
        },
        "id": "2sOU4G4OdCom",
        "outputId": "f407b6cb-2b4e-4631-ca31-20091ee0b1d0"
      },
      "execution_count": 6,
      "outputs": [
        {
          "output_type": "stream",
          "name": "stdout",
          "text": [
            "1回目の結果は4です。\n",
            "2回目の結果は5です。\n",
            "3回目の結果は19です。\n",
            "4回目の結果は1です。\n",
            "5回目の結果は20です。\n",
            "20が出たので繰り返し処理を強制終了します。\n"
          ]
        }
      ]
    },
    {
      "cell_type": "code",
      "source": [
        "for i in range(1, 11):\n",
        "    #ループ変数iの値が奇数（２で割った余りが1)であれば、値を出さずにcontinue文で次のループに進む\n",
        "    if i % 2 == 1:\n",
        "        continue\n",
        "\n",
        "    print(i)"
      ],
      "metadata": {
        "colab": {
          "base_uri": "https://localhost:8080/"
        },
        "id": "tsAWa_JUdCyJ",
        "outputId": "046a8ca8-5fcf-4e0b-c776-2053239ef156"
      },
      "execution_count": 8,
      "outputs": [
        {
          "output_type": "stream",
          "name": "stdout",
          "text": [
            "2\n",
            "4\n",
            "6\n",
            "8\n",
            "10\n"
          ]
        }
      ]
    },
    {
      "cell_type": "code",
      "source": [
        "#ランダムな整数を利用するため記述\n",
        "import random\n",
        "\n",
        "# 変数numに0~4までのランダムな整数を代入する\n",
        "num = random.randint(0, 4)\n",
        "\n",
        "#　変数numの最初の値を出力する（確認用）\n",
        "print(f\"最初の数値は{num}です。\")\n",
        "\n",
        "#　変数numの値が0以外である間、変数numの値を出し続ける\n",
        "while num != 0:\n",
        "    #　変数numに0~4までのランダムな整数を代入する\n",
        "    num = random.randint(0, 4)\n",
        "\n",
        "    #　次の条件式で比較される、変数numの現在の値を出力する\n",
        "    print(f\"現在の値は{num}です。\")"
      ],
      "metadata": {
        "colab": {
          "base_uri": "https://localhost:8080/"
        },
        "id": "S3xjf78JdC1j",
        "outputId": "5e49c9f3-b4dd-4af4-a183-92bf885aa7c9"
      },
      "execution_count": 13,
      "outputs": [
        {
          "output_type": "stream",
          "name": "stdout",
          "text": [
            "最初の数値は1です。\n",
            "現在の値は3です。\n",
            "現在の値は1です。\n",
            "現在の値は4です。\n",
            "現在の値は4です。\n",
            "現在の値は2です。\n",
            "現在の値は1です。\n",
            "現在の値は1です。\n",
            "現在の値は3です。\n",
            "現在の値は4です。\n",
            "現在の値は4です。\n",
            "現在の値は4です。\n",
            "現在の値は1です。\n",
            "現在の値は3です。\n",
            "現在の値は0です。\n"
          ]
        }
      ]
    },
    {
      "cell_type": "code",
      "source": [
        "#ランダムな整数を利用するため記述\n",
        "import random\n",
        "\n",
        "# 変数numに0~4までのランダムな整数を代入する\n",
        "num = random.randint(0, 4)\n",
        "\n",
        "#　カウンタ変数を用意する\n",
        "i = 1\n",
        "\n",
        "#　変数numの最初の値を出力する（確認用）\n",
        "print(f\"最初の数値は{num}です。\")\n",
        "\n",
        "#　変数numの値が0以外である間、変数numの値を出し続ける\n",
        "while num != 0:\n",
        "    #　変数numに0~4までのランダムな整数を代入する\n",
        "    num = random.randint(0, 4)\n",
        "\n",
        "    #　カウンタ変数iの値が5であれば、break文で繰り返し処理を強制終了する\n",
        "    if i == 5:\n",
        "        print(\"5回目なので繰り返し処理を強制終了します。\")\n",
        "        break\n",
        "\n",
        "    #　次の条件式で比較される、変数numの現在の値を出力する\n",
        "    print(f\"現在の値は{num}です。\")\n",
        "    #　カウンタ変数の値を1増やす\n",
        "    i = i + 1"
      ],
      "metadata": {
        "colab": {
          "base_uri": "https://localhost:8080/"
        },
        "id": "fOsnRCaedC8e",
        "outputId": "82237205-108a-4752-b0d5-028752bf08bb"
      },
      "execution_count": 18,
      "outputs": [
        {
          "output_type": "stream",
          "name": "stdout",
          "text": [
            "最初の数値は3です。\n",
            "現在の値は1です。\n",
            "現在の値は1です。\n",
            "現在の値は2です。\n",
            "現在の値は2です。\n",
            "5回目なので繰り返し処理を強制終了します。\n"
          ]
        }
      ]
    },
    {
      "cell_type": "code",
      "source": [
        "#ランダムな整数を利用するため記述\n",
        "import random\n",
        "\n",
        "#　合計用の変数を用意する\n",
        "sum = 0\n",
        "\n",
        "# 変数sumの値が20以上になるまで繰り返し処理を行う\n",
        "while sum < 20:\n",
        "    #　変数sumに1~10までのランダムな整数を代入する\n",
        "    num = random.randint(1, 10)\n",
        "\n",
        "    print(f\"{num}が出ました。\")\n",
        "\n",
        "    #　変数numの値が偶数(2で割って余りが0)であれば、加算せずにcontinue文で次のループに進む\n",
        "    if num % 2 == 0:\n",
        "       print(\"偶数なので加算しません。\")\n",
        "       continue\n",
        "\n",
        "    #　変数sumに変数numの値を加算する\n",
        "    sum = sum + num\n",
        "    print(f\"現在の合計は{sum}です。\")\n",
        ""
      ],
      "metadata": {
        "colab": {
          "base_uri": "https://localhost:8080/"
        },
        "id": "6-C3kBrodC_j",
        "outputId": "c52650bf-7798-4c6b-cc8b-110036a8785b"
      },
      "execution_count": 22,
      "outputs": [
        {
          "output_type": "stream",
          "name": "stdout",
          "text": [
            "5が出ました。\n",
            "現在の合計は5です。\n",
            "3が出ました。\n",
            "現在の合計は8です。\n",
            "4が出ました。\n",
            "偶数なので加算しません。\n",
            "5が出ました。\n",
            "現在の合計は13です。\n",
            "4が出ました。\n",
            "偶数なので加算しません。\n",
            "3が出ました。\n",
            "現在の合計は16です。\n",
            "6が出ました。\n",
            "偶数なので加算しません。\n",
            "7が出ました。\n",
            "現在の合計は23です。\n"
          ]
        }
      ]
    },
    {
      "cell_type": "code",
      "source": [
        "user_names = [\"侍太郎\", \"侍一郎\", \"侍二郎\", \"侍三郎\", \"侍四郎\"]\n",
        "\n",
        "#　配列user_namesの要素を1つずつ順番に出力する\n",
        "for user_name in user_names:\n",
        "    print(user_name)"
      ],
      "metadata": {
        "colab": {
          "base_uri": "https://localhost:8080/"
        },
        "id": "LuetE4fVsM82",
        "outputId": "69a799ae-d87f-41bc-b396-9f11f21f378c"
      },
      "execution_count": 1,
      "outputs": [
        {
          "output_type": "stream",
          "name": "stdout",
          "text": [
            "侍太郎\n",
            "侍一郎\n",
            "侍二郎\n",
            "侍三郎\n",
            "侍四郎\n"
          ]
        }
      ]
    },
    {
      "cell_type": "code",
      "source": [
        "personal_data = {\"name\": \"侍太郎\", \"age\": 36, \"gender\": \"男性\"}\n",
        "\n",
        "#　連想配列personal_dataのキーと値を一つずつ順番に出力する\n",
        "for key, value in personal_data.items():\n",
        "    print(f\"{key}は{value}です。\")\n",
        "\n",
        "#　連想配列personal_dataの値を1つずつ順番に出力する\n",
        "for value in personal_data.values():\n",
        "    print(value)"
      ],
      "metadata": {
        "colab": {
          "base_uri": "https://localhost:8080/"
        },
        "id": "-A61YZ1BsNJW",
        "outputId": "9c58660f-9f3c-46be-d249-07dffc118ede"
      },
      "execution_count": 5,
      "outputs": [
        {
          "output_type": "stream",
          "name": "stdout",
          "text": [
            "nameは侍太郎です。\n",
            "ageは36です。\n",
            "genderは男性です。\n",
            "侍太郎\n",
            "36\n",
            "男性\n"
          ]
        }
      ]
    },
    {
      "cell_type": "code",
      "source": [
        "user_names = [\"侍太郎\", \"侍一郎\", \"侍二郎\", \"侍三郎\", \"侍四郎\"]\n",
        "\n",
        "#　配列user_namesのインデックスと値を1つずつ順番に出力する\n",
        "for index, value in enumerate(user_names):\n",
        "    print(f\"{index} : {value}\")"
      ],
      "metadata": {
        "colab": {
          "base_uri": "https://localhost:8080/"
        },
        "id": "zQ13giHFsNSt",
        "outputId": "0bd40ece-9ed2-4c5c-b2e0-942396cead89"
      },
      "execution_count": 6,
      "outputs": [
        {
          "output_type": "stream",
          "name": "stdout",
          "text": [
            "0 : 侍太郎\n",
            "1 : 侍一郎\n",
            "2 : 侍二郎\n",
            "3 : 侍三郎\n",
            "4 : 侍四郎\n"
          ]
        }
      ]
    },
    {
      "cell_type": "code",
      "source": [
        "user_names = [\"侍太郎\", \"侍一郎\", \"侍二郎\", \"侍三郎\", \"侍四郎\"]\n",
        "\n",
        "#　検索したいユーザー名を代入する変数\n",
        "target = \"侍二郎\"\n",
        "\n",
        "for user_name in user_names:\n",
        "    print(user_name)\n",
        "\n",
        "    #　変数user_nameと変数targetの値が一致すれば、break文で繰り返し処理を強制終了する\n",
        "    if (user_name == target):\n",
        "       print(f\"{target}さんが見つかったので、繰り返し処理を強制終了します。\")\n",
        "       break"
      ],
      "metadata": {
        "colab": {
          "base_uri": "https://localhost:8080/"
        },
        "id": "W_kNuN58sNck",
        "outputId": "f11efdbd-5e06-41bc-9212-9615eceebb8b"
      },
      "execution_count": 8,
      "outputs": [
        {
          "output_type": "stream",
          "name": "stdout",
          "text": [
            "侍太郎\n",
            "侍一郎\n",
            "侍二郎\n",
            "侍二郎さんが見つかったので、繰り返し処理を強制終了します。\n"
          ]
        }
      ]
    },
    {
      "cell_type": "code",
      "source": [
        "score = {\"国語\": 80, \"数学\": 55, \"理科\": 70, \"社会\": 85, \"英語\": 60}\n",
        "print(\"合格した科目は以下の通りです\")\n",
        "\n",
        "for key, value in score.items():\n",
        "    # 変数valueの値(点数)が70より小さければ、キー(科目名)と値(点数)を出力させずにcontinue文で次のループに進む\n",
        "    if (value < 70):\n",
        "        continue\n",
        "    print(f\"{key} : {value}点\")"
      ],
      "metadata": {
        "colab": {
          "base_uri": "https://localhost:8080/"
        },
        "id": "AST4q3z75AE9",
        "outputId": "5af7c2d0-eba4-4dfd-8a10-02c55b42bfcd"
      },
      "execution_count": 17,
      "outputs": [
        {
          "output_type": "stream",
          "name": "stdout",
          "text": [
            "合格した科目は以下の通りです\n",
            "国語 : 80点\n",
            "理科 : 70点\n",
            "社会 : 85点\n"
          ]
        }
      ]
    },
    {
      "cell_type": "code",
      "source": [
        "array = [\"水\",\"金\",\"地\",\"火\",\"木\",\"土\",\"天\",\"海\",\"冥\"]\n",
        "for hairetu in array:\n",
        "    print(hairetu)\n",
        "\n",
        "index = 0\n",
        "\n",
        "while index < len(array):\n",
        "    print(array[index])\n",
        "    index += 1  # インデックスを1ずつ増やす"
      ],
      "metadata": {
        "colab": {
          "base_uri": "https://localhost:8080/"
        },
        "id": "niXgaXqT5AIU",
        "outputId": "25404111-2dd2-4dfe-de91-795992fb0bea"
      },
      "execution_count": 28,
      "outputs": [
        {
          "output_type": "stream",
          "name": "stdout",
          "text": [
            "水\n",
            "金\n",
            "地\n",
            "火\n",
            "木\n",
            "土\n",
            "天\n",
            "海\n",
            "冥\n",
            "水\n",
            "金\n",
            "地\n",
            "火\n",
            "木\n",
            "土\n",
            "天\n",
            "海\n",
            "冥\n"
          ]
        }
      ]
    },
    {
      "cell_type": "code",
      "source": [],
      "metadata": {
        "id": "9-5JFeIk-UAr"
      },
      "execution_count": null,
      "outputs": []
    }
  ]
}