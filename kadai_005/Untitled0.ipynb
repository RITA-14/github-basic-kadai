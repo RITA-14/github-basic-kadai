{
  "nbformat": 4,
  "nbformat_minor": 0,
  "metadata": {
    "colab": {
      "provenance": []
    },
    "kernelspec": {
      "name": "python3",
      "display_name": "Python 3"
    },
    "language_info": {
      "name": "python"
    }
  },
  "cells": [
    {
      "cell_type": "code",
      "execution_count": null,
      "metadata": {
        "colab": {
          "base_uri": "https://localhost:8080/"
        },
        "id": "sGXyoPuXWU1q",
        "outputId": "5ac31e29-aceb-4763-871f-c3b842b34467"
      },
      "outputs": [
        {
          "output_type": "stream",
          "name": "stdout",
          "text": [
            "3\n"
          ]
        }
      ],
      "source": [
        "print(1+2)"
      ]
    },
    {
      "cell_type": "code",
      "source": [
        "age = 18 # 年齢\n",
        "\n",
        "if age < 20:\n",
        " # 未成年の場合\n",
        " print(\"ジュースで乾杯!\")\n",
        "else:\n",
        " # 青年の場合\n",
        " print(\"お酒で乾杯!\")"
      ],
      "metadata": {
        "colab": {
          "base_uri": "https://localhost:8080/"
        },
        "id": "HLB2QZkCgEBF",
        "outputId": "ccd8b1f0-8a8f-4e7a-ab41-df790b925898"
      },
      "execution_count": 6,
      "outputs": [
        {
          "output_type": "stream",
          "name": "stdout",
          "text": [
            "ジュースで乾杯!\n"
          ]
        }
      ]
    },
    {
      "cell_type": "code",
      "source": [
        "print(45 + 18)\n",
        "print(30 - 12)\n",
        "print(15 * 6)\n",
        "print(30 /3)\n",
        "print(45 % 8)"
      ],
      "metadata": {
        "colab": {
          "base_uri": "https://localhost:8080/"
        },
        "id": "9kgxFbd4hkui",
        "outputId": "e6e0ecdc-03d0-49aa-9678-faa3028ce1f9"
      },
      "execution_count": 8,
      "outputs": [
        {
          "output_type": "stream",
          "name": "stdout",
          "text": [
            "63\n",
            "18\n",
            "90\n",
            "10.0\n",
            "5\n"
          ]
        }
      ]
    },
    {
      "cell_type": "code",
      "source": [
        "print(45 + 1.8)\n",
        "print(3 - 1,2)\n",
        "print(15 * 0.6)\n",
        "print(3 / 0.3)\n",
        "print(45 % 0.8)"
      ],
      "metadata": {
        "colab": {
          "base_uri": "https://localhost:8080/"
        },
        "id": "kNYhYKaNhoux",
        "outputId": "fc7282cb-611a-47a5-cda9-2ffff0b0b459"
      },
      "execution_count": 9,
      "outputs": [
        {
          "output_type": "stream",
          "name": "stdout",
          "text": [
            "46.8\n",
            "2 2\n",
            "9.0\n",
            "10.0\n",
            "0.1999999999999975\n"
          ]
        }
      ]
    },
    {
      "cell_type": "code",
      "source": [
        "print(\"今日の天気は\" + \"晴れ\")\n",
        "print(\"今日の天気は\" \"曇り\")"
      ],
      "metadata": {
        "id": "qsXPrtHLXvXR",
        "colab": {
          "base_uri": "https://localhost:8080/"
        },
        "outputId": "1bc96c31-9029-4d3a-d597-05af269929d3"
      },
      "execution_count": 12,
      "outputs": [
        {
          "output_type": "stream",
          "name": "stdout",
          "text": [
            "今日の天気は晴れ\n",
            "今日の天気は曇り\n"
          ]
        }
      ]
    },
    {
      "cell_type": "code",
      "source": [
        "print(\"降水確率\" + str(50) + \"%\")"
      ],
      "metadata": {
        "colab": {
          "base_uri": "https://localhost:8080/"
        },
        "id": "GXyi1Tw3jil2",
        "outputId": "31ade2ce-2af1-45dd-c187-e6954a6cb358"
      },
      "execution_count": 13,
      "outputs": [
        {
          "output_type": "stream",
          "name": "stdout",
          "text": [
            "降水確率50%\n"
          ]
        }
      ]
    },
    {
      "cell_type": "code",
      "source": [
        "print(\"晴れ\" *5)\n",
        "print(\"晴れ\"+ \"晴れ\" + \"晴れ\" + \"晴れ\" + \"晴れ\")"
      ],
      "metadata": {
        "colab": {
          "base_uri": "https://localhost:8080/"
        },
        "id": "lYhLjxggwKP8",
        "outputId": "69343340-8931-45e1-d8f8-9d991387ccd7"
      },
      "execution_count": 15,
      "outputs": [
        {
          "output_type": "stream",
          "name": "stdout",
          "text": [
            "晴れ晴れ晴れ晴れ晴れ\n",
            "晴れ晴れ晴れ晴れ晴れ\n"
          ]
        }
      ]
    },
    {
      "cell_type": "code",
      "source": [
        "user_name = \"侍太郎\"\n",
        "print(user_name)"
      ],
      "metadata": {
        "colab": {
          "base_uri": "https://localhost:8080/"
        },
        "id": "gSPFmA7bxuG8",
        "outputId": "d828dc3a-8f66-4c7c-a100-9835a192621a"
      },
      "execution_count": 16,
      "outputs": [
        {
          "output_type": "stream",
          "name": "stdout",
          "text": [
            "侍太郎\n"
          ]
        }
      ]
    },
    {
      "cell_type": "code",
      "source": [
        "user_name = \"侍太郎\"\n",
        "print(user_name)\n",
        "\n",
        "user_name = \"侍花子\"\n",
        "print(user_name)"
      ],
      "metadata": {
        "colab": {
          "base_uri": "https://localhost:8080/"
        },
        "id": "VMt20u5wyHzx",
        "outputId": "ab7d82f8-ce7e-4f63-8231-52bb4ab0380e"
      },
      "execution_count": 19,
      "outputs": [
        {
          "output_type": "stream",
          "name": "stdout",
          "text": [
            "侍太郎\n",
            "侍花子\n"
          ]
        }
      ]
    },
    {
      "cell_type": "code",
      "source": [
        "# 整数型と不動小数点の足し算\n",
        "number1 = 5\n",
        "number2 = 2.5\n",
        "print(number1 + number2)\n",
        "\n",
        "#　文字列型と文字列型の連結\n",
        "last_name = \"侍\"\n",
        "first_name = \"太郎\"\n",
        "print(last_name + first_name)"
      ],
      "metadata": {
        "colab": {
          "base_uri": "https://localhost:8080/"
        },
        "id": "vPg4Mrl0yglY",
        "outputId": "7b5bb405-7234-4ff1-e2bb-4bf2f0735f95"
      },
      "execution_count": 21,
      "outputs": [
        {
          "output_type": "stream",
          "name": "stdout",
          "text": [
            "7.5\n",
            "侍太郎\n"
          ]
        }
      ]
    },
    {
      "cell_type": "code",
      "source": [
        "last_name = \"侍\"\n",
        "first_name = \"太郎\"\n",
        "sister_name = \"花子\"\n",
        "\n",
        "# 3つの変数を文字列内に埋め込んで表示\n",
        "print(f\"私の名前は{last_name}{first_name}です。妹の名前は{sister_name}です。\")"
      ],
      "metadata": {
        "colab": {
          "base_uri": "https://localhost:8080/"
        },
        "id": "plZFno5dzt5N",
        "outputId": "6db64e26-26ec-405f-ce3a-7ee2a83e4ddb"
      },
      "execution_count": 22,
      "outputs": [
        {
          "output_type": "stream",
          "name": "stdout",
          "text": [
            "私の名前は侍太郎です。妹の名前は花子です。\n"
          ]
        }
      ]
    },
    {
      "cell_type": "code",
      "source": [
        "    #上辺 = x , 下辺 = y , 高さ = z , 単位 = \"cm\"\n",
        "x = 10\n",
        "y = 20\n",
        "z = 5\n",
        "    #計算式\n",
        "answer = ((x + y) * z / 2)\n",
        "print(f\"台形の面積= {answer} ㎠\")\n"
      ],
      "metadata": {
        "colab": {
          "base_uri": "https://localhost:8080/"
        },
        "id": "Mq2rqGkk7RUr",
        "outputId": "a9207881-90d4-46ce-fc4d-c0be7dbd92b8"
      },
      "execution_count": 35,
      "outputs": [
        {
          "output_type": "stream",
          "name": "stdout",
          "text": [
            "台形の面積= 75.0 ㎠\n"
          ]
        }
      ]
    }
  ]
}