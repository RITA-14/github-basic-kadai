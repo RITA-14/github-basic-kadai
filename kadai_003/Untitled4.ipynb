{
  "nbformat": 4,
  "nbformat_minor": 0,
  "metadata": {
    "colab": {
      "provenance": []
    },
    "kernelspec": {
      "name": "python3",
      "display_name": "Python 3"
    },
    "language_info": {
      "name": "python"
    }
  },
  "cells": [
    {
      "cell_type": "code",
      "execution_count": 1,
      "metadata": {
        "colab": {
          "base_uri": "https://localhost:8080/"
        },
        "id": "lfpqnBIQPPPz",
        "outputId": "4ed38e0e-d4d6-4933-a6d9-6b477a9071a7"
      },
      "outputs": [
        {
          "output_type": "stream",
          "name": "stdout",
          "text": [
            "行列の積 A × B の結果：\n",
            "[[ 4  5  6  7]\n",
            " [12 17 22 27]\n",
            " [20 29 38 47]]\n",
            "行列の最大値： 47\n"
          ]
        }
      ],
      "source": [
        "# Step1. NumPyをインポートする\n",
        "import numpy as np\n",
        "\n",
        "# Step2. AとBの行列を格納する多次元配列の定義\n",
        "A = np.array([[0, 1],\n",
        "              [2, 3],\n",
        "              [4, 5]])\n",
        "\n",
        "B = np.array([[0, 1, 2, 3],\n",
        "              [4, 5, 6, 7]])\n",
        "\n",
        "# Step3. 行列の積を計算する\n",
        "C = np.dot(A, B)\n",
        "\n",
        "# Step4. 計算結果を表示する\n",
        "print(\"行列の積 A × B の結果：\")\n",
        "print(C)\n",
        "\n",
        "# Step5. 行列の要素の最大値を求めて表示する\n",
        "max_value = np.max(C)\n",
        "print(\"行列の最大値：\", max_value)"
      ]
    }
  ]
}