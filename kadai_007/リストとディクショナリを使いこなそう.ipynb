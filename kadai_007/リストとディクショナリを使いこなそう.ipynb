{
  "cells": [
    {
      "cell_type": "code",
      "execution_count": null,
      "metadata": {
        "colab": {
          "base_uri": "https://localhost:8080/"
        },
        "id": "sGXyoPuXWU1q",
        "outputId": "5ac31e29-aceb-4763-871f-c3b842b34467"
      },
      "outputs": [
        {
          "name": "stdout",
          "output_type": "stream",
          "text": [
            "3\n"
          ]
        }
      ],
      "source": [
        "print(1+2)"
      ]
    },
    {
      "cell_type": "code",
      "execution_count": 6,
      "metadata": {
        "colab": {
          "base_uri": "https://localhost:8080/"
        },
        "id": "HLB2QZkCgEBF",
        "outputId": "ccd8b1f0-8a8f-4e7a-ab41-df790b925898"
      },
      "outputs": [
        {
          "name": "stdout",
          "output_type": "stream",
          "text": [
            "ジュースで乾杯!\n"
          ]
        }
      ],
      "source": [
        "age = 18 # 年齢\n",
        "\n",
        "if age < 20:\n",
        " # 未成年の場合\n",
        " print(\"ジュースで乾杯!\")\n",
        "else:\n",
        " # 青年の場合\n",
        " print(\"お酒で乾杯!\")"
      ]
    },
    {
      "cell_type": "code",
      "execution_count": 8,
      "metadata": {
        "colab": {
          "base_uri": "https://localhost:8080/"
        },
        "id": "9kgxFbd4hkui",
        "outputId": "e6e0ecdc-03d0-49aa-9678-faa3028ce1f9"
      },
      "outputs": [
        {
          "name": "stdout",
          "output_type": "stream",
          "text": [
            "63\n",
            "18\n",
            "90\n",
            "10.0\n",
            "5\n"
          ]
        }
      ],
      "source": [
        "print(45 + 18)\n",
        "print(30 - 12)\n",
        "print(15 * 6)\n",
        "print(30 /3)\n",
        "print(45 % 8)"
      ]
    },
    {
      "cell_type": "code",
      "execution_count": 9,
      "metadata": {
        "colab": {
          "base_uri": "https://localhost:8080/"
        },
        "id": "kNYhYKaNhoux",
        "outputId": "fc7282cb-611a-47a5-cda9-2ffff0b0b459"
      },
      "outputs": [
        {
          "name": "stdout",
          "output_type": "stream",
          "text": [
            "46.8\n",
            "2 2\n",
            "9.0\n",
            "10.0\n",
            "0.1999999999999975\n"
          ]
        }
      ],
      "source": [
        "print(45 + 1.8)\n",
        "print(3 - 1,2)\n",
        "print(15 * 0.6)\n",
        "print(3 / 0.3)\n",
        "print(45 % 0.8)"
      ]
    },
    {
      "cell_type": "code",
      "execution_count": 12,
      "metadata": {
        "colab": {
          "base_uri": "https://localhost:8080/"
        },
        "id": "qsXPrtHLXvXR",
        "outputId": "1bc96c31-9029-4d3a-d597-05af269929d3"
      },
      "outputs": [
        {
          "name": "stdout",
          "output_type": "stream",
          "text": [
            "今日の天気は晴れ\n",
            "今日の天気は曇り\n"
          ]
        }
      ],
      "source": [
        "print(\"今日の天気は\" + \"晴れ\")\n",
        "print(\"今日の天気は\" \"曇り\")"
      ]
    },
    {
      "cell_type": "code",
      "execution_count": 13,
      "metadata": {
        "colab": {
          "base_uri": "https://localhost:8080/"
        },
        "id": "GXyi1Tw3jil2",
        "outputId": "31ade2ce-2af1-45dd-c187-e6954a6cb358"
      },
      "outputs": [
        {
          "name": "stdout",
          "output_type": "stream",
          "text": [
            "降水確率50%\n"
          ]
        }
      ],
      "source": [
        "print(\"降水確率\" + str(50) + \"%\")"
      ]
    },
    {
      "cell_type": "code",
      "execution_count": 15,
      "metadata": {
        "colab": {
          "base_uri": "https://localhost:8080/"
        },
        "id": "lYhLjxggwKP8",
        "outputId": "69343340-8931-45e1-d8f8-9d991387ccd7"
      },
      "outputs": [
        {
          "name": "stdout",
          "output_type": "stream",
          "text": [
            "晴れ晴れ晴れ晴れ晴れ\n",
            "晴れ晴れ晴れ晴れ晴れ\n"
          ]
        }
      ],
      "source": [
        "print(\"晴れ\" *5)\n",
        "print(\"晴れ\"+ \"晴れ\" + \"晴れ\" + \"晴れ\" + \"晴れ\")"
      ]
    },
    {
      "cell_type": "code",
      "execution_count": 16,
      "metadata": {
        "colab": {
          "base_uri": "https://localhost:8080/"
        },
        "id": "gSPFmA7bxuG8",
        "outputId": "d828dc3a-8f66-4c7c-a100-9835a192621a"
      },
      "outputs": [
        {
          "name": "stdout",
          "output_type": "stream",
          "text": [
            "侍太郎\n"
          ]
        }
      ],
      "source": [
        "user_name = \"侍太郎\"\n",
        "print(user_name)"
      ]
    },
    {
      "cell_type": "code",
      "execution_count": 19,
      "metadata": {
        "colab": {
          "base_uri": "https://localhost:8080/"
        },
        "id": "VMt20u5wyHzx",
        "outputId": "ab7d82f8-ce7e-4f63-8231-52bb4ab0380e"
      },
      "outputs": [
        {
          "name": "stdout",
          "output_type": "stream",
          "text": [
            "侍太郎\n",
            "侍花子\n"
          ]
        }
      ],
      "source": [
        "user_name = \"侍太郎\"\n",
        "print(user_name)\n",
        "\n",
        "user_name = \"侍花子\"\n",
        "print(user_name)"
      ]
    },
    {
      "cell_type": "code",
      "execution_count": 21,
      "metadata": {
        "colab": {
          "base_uri": "https://localhost:8080/"
        },
        "id": "vPg4Mrl0yglY",
        "outputId": "7b5bb405-7234-4ff1-e2bb-4bf2f0735f95"
      },
      "outputs": [
        {
          "name": "stdout",
          "output_type": "stream",
          "text": [
            "7.5\n",
            "侍太郎\n"
          ]
        }
      ],
      "source": [
        "# 整数型と不動小数点の足し算\n",
        "number1 = 5\n",
        "number2 = 2.5\n",
        "print(number1 + number2)\n",
        "\n",
        "#　文字列型と文字列型の連結\n",
        "last_name = \"侍\"\n",
        "first_name = \"太郎\"\n",
        "print(last_name + first_name)"
      ]
    },
    {
      "cell_type": "code",
      "execution_count": 22,
      "metadata": {
        "colab": {
          "base_uri": "https://localhost:8080/"
        },
        "id": "plZFno5dzt5N",
        "outputId": "6db64e26-26ec-405f-ce3a-7ee2a83e4ddb"
      },
      "outputs": [
        {
          "name": "stdout",
          "output_type": "stream",
          "text": [
            "私の名前は侍太郎です。妹の名前は花子です。\n"
          ]
        }
      ],
      "source": [
        "last_name = \"侍\"\n",
        "first_name = \"太郎\"\n",
        "sister_name = \"花子\"\n",
        "\n",
        "# 3つの変数を文字列内に埋め込んで表示\n",
        "print(f\"私の名前は{last_name}{first_name}です。妹の名前は{sister_name}です。\")"
      ]
    },
    {
      "cell_type": "code",
      "execution_count": 36,
      "metadata": {
        "colab": {
          "base_uri": "https://localhost:8080/"
        },
        "id": "Mq2rqGkk7RUr",
        "outputId": "69190846-864f-4e3c-a20b-0e2bb69a50aa"
      },
      "outputs": [
        {
          "name": "stdout",
          "output_type": "stream",
          "text": [
            "台形の面積= 75.0cm²\n"
          ]
        }
      ],
      "source": [
        "    #上辺 = x , 下辺 = y , 高さ = z , 単位 = \"cm\"\n",
        "x = 10\n",
        "y = 20\n",
        "z = 5\n",
        "    #計算式\n",
        "answer = ((x + y) * z / 2)\n",
        "print(f\"台形の面積= {answer}cm²\")\n"
      ]
    },
    {
      "cell_type": "code",
      "execution_count": 38,
      "metadata": {
        "colab": {
          "base_uri": "https://localhost:8080/"
        },
        "id": "ItdD6RN5LiB3",
        "outputId": "ff19f517-8779-4fb8-aeb0-87feac88ad71"
      },
      "outputs": [
        {
          "name": "stdout",
          "output_type": "stream",
          "text": [
            "['侍太郎', '侍花子', '侍二郎', '侍三郎', '侍四郎']\n"
          ]
        }
      ],
      "source": [
        "user_names = [\"侍太郎\", \"侍一郎\", \"侍二郎\", \"侍三郎\", \"侍四郎\"]\n",
        "#　2番目の要素を更新する\n",
        "user_names[1] = \"侍花子\"\n",
        "print(user_names)"
      ]
    },
    {
      "cell_type": "code",
      "execution_count": 40,
      "metadata": {
        "colab": {
          "base_uri": "https://localhost:8080/"
        },
        "id": "ODZxxXX0MdaM",
        "outputId": "2f85849e-c2e7-489c-bffa-df50080f87d5"
      },
      "outputs": [
        {
          "name": "stdout",
          "output_type": "stream",
          "text": [
            "['侍太郎', '侍一郎', '侍二郎', '侍三郎', '侍四郎', '侍五郎']\n",
            "['侍太郎', '侍一郎', '侍三郎', '侍四郎', '侍五郎']\n"
          ]
        }
      ],
      "source": [
        "user_names = [\"侍太郎\", \"侍一郎\", \"侍二郎\", \"侍三郎\", \"侍四郎\"]\n",
        "#　6番目の要素を追加する\n",
        "user_names.append(\"侍五郎\")\n",
        "print(user_names)\n",
        "\n",
        "# 3番目の要素を削除する\n",
        "user_names.pop(2) # 0始りのため、3番目のインデックスは2\n",
        "print(user_names)"
      ]
    },
    {
      "cell_type": "code",
      "execution_count": 41,
      "metadata": {
        "colab": {
          "base_uri": "https://localhost:8080/"
        },
        "id": "eu65QaA1NWZA",
        "outputId": "fc5e8b50-6079-4c0c-ff01-c44dd7994776"
      },
      "outputs": [
        {
          "name": "stdout",
          "output_type": "stream",
          "text": [
            "侍一郎\n",
            "['侍太郎', '侍花子', '侍二郎', '侍三郎', '侍四郎']\n",
            "['侍太郎', '侍花子', '侍二郎', '侍三郎', '侍四郎', '侍五郎']\n",
            "['侍太郎', '侍花子', '侍三郎', '侍四郎', '侍五郎']\n"
          ]
        }
      ],
      "source": [
        "user_names = [\"侍太郎\", \"侍一郎\", \"侍二郎\", \"侍三郎\", \"侍四郎\"]\n",
        "print(user_names[1])#2番目の要素だけ表示\n",
        "user_names[1] = \"侍花子\"#　2番目の要素を更新\n",
        "print(user_names)\n",
        "user_names.append(\"侍五郎\")#　6番目の要素を追加する\n",
        "print(user_names)\n",
        "user_names.pop(2) # 3番目の要素を削除(0始りのため2を指定)\n",
        "print(user_names)"
      ]
    },
    {
      "cell_type": "code",
      "execution_count": 42,
      "metadata": {
        "colab": {
          "base_uri": "https://localhost:8080/"
        },
        "id": "MsXhFhKXPBW6",
        "outputId": "a9a79da1-d332-4f76-d7c7-45f5a69b4a56"
      },
      "outputs": [
        {
          "name": "stdout",
          "output_type": "stream",
          "text": [
            "イギリス\n",
            "('日本', 'アメリカ', 'イギリス', 'フランス')\n"
          ]
        }
      ],
      "source": [
        "country_names = (\"日本\", \"アメリカ\", \"イギリス\", \"フランス\")\n",
        "# 3番目の要素である｢イギリス｣という文字だけを取り出す\n",
        "print(country_names[2])\n",
        "print(country_names)"
      ]
    },
    {
      "cell_type": "code",
      "execution_count": 43,
      "metadata": {
        "colab": {
          "base_uri": "https://localhost:8080/"
        },
        "id": "Wv3INSC9QFXf",
        "outputId": "8d94eefd-f4d3-4527-8a2d-f7dc1c8434c7"
      },
      "outputs": [
        {
          "name": "stdout",
          "output_type": "stream",
          "text": [
            "イギリス\n",
            "('日本', 'アメリカ', 'イギリス', 'フランス')\n"
          ]
        }
      ],
      "source": [
        "country_names = (\"日本\", \"アメリカ\", \"イギリス\", \"フランス\")\n",
        "# 3番目の要素を取り出す\n",
        "print(country_names[2])\n",
        "# すべての要素を取り出す\n",
        "print(country_names)"
      ]
    },
    {
      "cell_type": "code",
      "execution_count": 49,
      "metadata": {
        "colab": {
          "base_uri": "https://localhost:8080/"
        },
        "id": "gLayAI6FQygD",
        "outputId": "257ce0c4-0ccc-47f5-bf87-61720affb52a"
      },
      "outputs": [
        {
          "name": "stdout",
          "output_type": "stream",
          "text": [
            "{'フランス', 'アメリカ', 'イギリス', '日本'}\n"
          ]
        }
      ],
      "source": [
        "country_names = {\"アメリカ\", \"イギリス\", \"日本\", \"フランス\"}\n",
        "# セット全体を表示\n",
        "print(country_names)"
      ]
    },
    {
      "cell_type": "code",
      "execution_count": 50,
      "metadata": {
        "colab": {
          "base_uri": "https://localhost:8080/"
        },
        "id": "sVYYicrFQynA",
        "outputId": "1e3ec269-8610-42bd-fe21-748fe8370ead"
      },
      "outputs": [
        {
          "name": "stdout",
          "output_type": "stream",
          "text": [
            "{2, 3, 5, 7}\n"
          ]
        }
      ],
      "source": [
        "prime_numbers = {2, 5, 2, 7, 3, 5, 5 }\n",
        "# セット全体を表示\n",
        "print(prime_numbers)"
      ]
    },
    {
      "cell_type": "code",
      "execution_count": 51,
      "metadata": {
        "colab": {
          "base_uri": "https://localhost:8080/"
        },
        "id": "xfRzQmF3Sj-E",
        "outputId": "164c84bf-0fdf-48bf-8bb1-4c7acfde27d5"
      },
      "outputs": [
        {
          "name": "stdout",
          "output_type": "stream",
          "text": [
            "{2, 3, 5, 7}\n",
            "{2, 3, 5, 7, 11}\n",
            "{2, 5, 7, 11}\n"
          ]
        }
      ],
      "source": [
        "# 1～10までに含まれる素数のセット\n",
        "prime_numbers = {2, 3, 5, 7}\n",
        "# セット全体を表示\n",
        "print(prime_numbers)\n",
        "prime_numbers.add(11)# 11をセットに追加\n",
        "print(prime_numbers)\n",
        "prime_numbers.remove(3)# セットから3を削除\n",
        "print(prime_numbers)"
      ]
    },
    {
      "cell_type": "code",
      "execution_count": 53,
      "metadata": {
        "colab": {
          "base_uri": "https://localhost:8080/"
        },
        "id": "ZoR2QuKISkJP",
        "outputId": "65f5d677-90d2-4f93-ebb4-7c230dce51d3"
      },
      "outputs": [
        {
          "name": "stdout",
          "output_type": "stream",
          "text": [
            "{'フランス', 'アメリカ', 'イギリス', '日本'}\n",
            "{'ドイツ', 'イギリス', 'フランス', 'アメリカ', '日本'}\n",
            "{'ドイツ', 'フランス', 'アメリカ', '日本'}\n"
          ]
        }
      ],
      "source": [
        "country_names = {\"アメリカ\", \"イギリス\", \"日本\", \"フランス\"}\n",
        "# セット全体を表示\n",
        "print(country_names)\n",
        "country_names.add(\"ドイツ\")# 「ドイツ」をセットに追加\n",
        "print(country_names)\n",
        "country_names.remove(\"イギリス\")# セットから「イギリス」を削除\n",
        "print(country_names)"
      ]
    },
    {
      "cell_type": "code",
      "execution_count": 56,
      "metadata": {
        "colab": {
          "base_uri": "https://localhost:8080/"
        },
        "id": "OvOkHYxlYVGr",
        "outputId": "87a10dfd-57a4-42e5-cdff-8d25f5053733"
      },
      "outputs": [
        {
          "name": "stdout",
          "output_type": "stream",
          "text": [
            "120\n",
            "{'鉛筆': 70, 'ボールペン': 120, 'シャープペンシル': 150, '消しゴム': 90}\n"
          ]
        }
      ],
      "source": [
        "stationery_prices = {\"鉛筆\": 70, \"ボールペン\": 120, \"シャープペンシル\": 150, \"消しゴム\": 90}\n",
        "# ボールペンの価格を取り出して表示\n",
        "print(stationery_prices[\"ボールペン\"])\n",
        "print(stationery_prices)"
      ]
    },
    {
      "cell_type": "code",
      "execution_count": 57,
      "metadata": {
        "colab": {
          "base_uri": "https://localhost:8080/"
        },
        "id": "yXUD9kOZYVSh",
        "outputId": "5224c728-b933-4dc5-ffac-64a9942c1df5"
      },
      "outputs": [
        {
          "name": "stdout",
          "output_type": "stream",
          "text": [
            "{1: 'サッカー', 2: 'バドミントン', 3: 'バスケット', 4: '水泳'}\n"
          ]
        }
      ],
      "source": [
        "sports = {1: \"サッカー\", 2: \"野球\", 3:\"バスケット\"}\n",
        "# キー[2]の値を「バドミントン」に置き換える\n",
        "sports[2] = \"バドミントン\"\n",
        "# キー[4]として「水泳」を追加する\n",
        "sports[4] = \"水泳\"\n",
        "# 連想配列全体を取り出して表示\n",
        "print(sports)"
      ]
    },
    {
      "cell_type": "code",
      "execution_count": 58,
      "metadata": {
        "colab": {
          "base_uri": "https://localhost:8080/"
        },
        "id": "Jd4xxvxqbhQ9",
        "outputId": "25fa0d56-1af8-4816-a195-65b5a1de2941"
      },
      "outputs": [
        {
          "name": "stdout",
          "output_type": "stream",
          "text": [
            "{'鉛筆': 70, 'ボールペン': 120, '消しゴム': 90}\n"
          ]
        }
      ],
      "source": [
        "stationery_prices = {\"鉛筆\": 70, \"ボールペン\": 120, \"シャープペンシル\": 150, \"消しゴム\": 90}\n",
        "# 「シャープペンシル」を要素ごと削除\n",
        "stationery_prices.pop(\"シャープペンシル\")\n",
        "# 連想配列全体を取り出して表示\n",
        "print(stationery_prices)"
      ]
    },
    {
      "cell_type": "code",
      "execution_count": 59,
      "metadata": {
        "colab": {
          "base_uri": "https://localhost:8080/"
        },
        "id": "VrEzL7JDbhUP",
        "outputId": "32cd91ef-1422-4db9-8bb5-1188871f7dd4"
      },
      "outputs": [
        {
          "name": "stdout",
          "output_type": "stream",
          "text": [
            "侍太郎\n",
            "{'name': '侍太郎', 'age': 36, 'gender': '男性'}\n",
            "{'name': '侍太郎', 'age': 37, 'gender': '男性', 'address': '東京都'}\n"
          ]
        }
      ],
      "source": [
        "# 連想配列を作成\n",
        "personal_date = {\"name\": \"侍太郎\", \"age\": 36, \"gender\": \"男性\"}\n",
        "# キー「name」の値を表示\n",
        "print(personal_date[\"name\"])\n",
        "# 連想配列全体を表示\n",
        "print(personal_date)\n",
        "# キー「age」の値を更新\n",
        "personal_date[\"age\"] = 37\n",
        "# 新しく要素（キーと値）を追加\n",
        "personal_date[\"address\"] = \"東京都\"\n",
        "# 連想配列全体を表示\n",
        "print(personal_date)"
      ]
    },
    {
      "cell_type": "code",
      "execution_count": 65,
      "metadata": {
        "colab": {
          "base_uri": "https://localhost:8080/"
        },
        "id": "5e85vbJOgRHi",
        "outputId": "ee06e7f4-23ed-4e9f-e99e-a695077b913a"
      },
      "outputs": [
        {
          "name": "stdout",
          "output_type": "stream",
          "text": [
            "水曜日は晴れです\n",
            "晴れ\n"
          ]
        }
      ],
      "source": [
        "# リスト=arrayで作成\n",
        "array = [\"月曜日は晴れです\", \"火曜日は雨です\", \"水曜日は晴れです\", \"木曜日は晴れです\", \"金曜日は曇りです\", \"土曜日は曇りのち雨です\", \"日曜日は雷雨です\"]\n",
        "# 連想配列=dictionaryで作成\n",
        "dictionary = {\"mon\": \"晴れ\", \"tue\": \"雨\", \"wed\": \"晴れ\", \"thu\": \"晴れ\", \"fri\": \"曇り\", \"sat\": \"曇りのち雨\", \"sun\": \"雷雨\"}\n",
        "#　リストから水曜日の天気予報を表示\n",
        "print(array[2])\n",
        "# ディクショナリーから水曜日の天気予報を表示\n",
        "print(dictionary[\"wed\"])"
      ]
    }
  ],
  "metadata": {
    "colab": {
      "provenance": []
    },
    "kernelspec": {
      "display_name": "Python 3",
      "name": "python3"
    },
    "language_info": {
      "name": "python"
    }
  },
  "nbformat": 4,
  "nbformat_minor": 0
}
