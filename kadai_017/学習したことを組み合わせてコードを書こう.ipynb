{
  "nbformat": 4,
  "nbformat_minor": 0,
  "metadata": {
    "colab": {
      "provenance": []
    },
    "kernelspec": {
      "name": "python3",
      "display_name": "Python 3"
    },
    "language_info": {
      "name": "python"
    }
  },
  "cells": [
    {
      "cell_type": "code",
      "execution_count": 1,
      "metadata": {
        "id": "U5eFsSzrXBZz",
        "colab": {
          "base_uri": "https://localhost:8080/"
        },
        "outputId": "408af345-b848-47c8-dcae-1b2bc5bef181"
      },
      "outputs": [
        {
          "output_type": "stream",
          "name": "stdout",
          "text": [
            "太郎 は大人です。\n",
            "花子 は大人ではありません。\n",
            "次郎 は大人です。\n",
            "美咲 は大人ではありません。\n"
          ]
        }
      ],
      "source": [
        "class Human:\n",
        "    def __init__(self, name, age):\n",
        "        self.name = name\n",
        "        self.age = age\n",
        "\n",
        "    def check_adult(self):\n",
        "        if self.age >= 20:\n",
        "            print(f\"{self.name} は大人です。\")\n",
        "        else:\n",
        "            print(f\"{self.name} は大人ではありません。\")\n",
        "\n",
        "# インスタンスを複数作成してリストに追加\n",
        "humans = [Human(\"太郎\", 25), Human(\"花子\", 18), Human(\"次郎\", 30), Human(\"美咲\", 15)]\n",
        "\n",
        "# リストの要素数分だけ check_adult メソッドを呼び出す\n",
        "for human in humans:\n",
        "    human.check_adult()"
      ]
    }
  ]
}