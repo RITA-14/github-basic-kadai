{
  "nbformat": 4,
  "nbformat_minor": 0,
  "metadata": {
    "colab": {
      "provenance": []
    },
    "kernelspec": {
      "name": "python3",
      "display_name": "Python 3"
    },
    "language_info": {
      "name": "python"
    }
  },
  "cells": [
    {
      "cell_type": "code",
      "execution_count": 1,
      "metadata": {
        "id": "U5eFsSzrXBZz",
        "colab": {
          "base_uri": "https://localhost:8080/"
        },
        "outputId": "4a8160c4-28c5-4e20-aa9c-7c75d1f61c2a"
      },
      "outputs": [
        {
          "output_type": "stream",
          "name": "stdout",
          "text": [
            "名前: oresama\n",
            "年齢: 99\n"
          ]
        }
      ],
      "source": [
        "class Human:\n",
        "  def __init__(self, name, age):\n",
        "    self.name = name\n",
        "    self.age = age\n",
        "\n",
        "  def printinfo(self):\n",
        "    print(f\"名前: {self.name}\")\n",
        "    print(f\"年齢: {self.age}\")\n",
        "\n",
        "person = Human(\"oresama\", 99)\n",
        "person.printinfo()"
      ]
    }
  ]
}