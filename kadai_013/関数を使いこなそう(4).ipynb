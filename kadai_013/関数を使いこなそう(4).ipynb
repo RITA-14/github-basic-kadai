{
  "nbformat": 4,
  "nbformat_minor": 0,
  "metadata": {
    "colab": {
      "provenance": []
    },
    "kernelspec": {
      "name": "python3",
      "display_name": "Python 3"
    },
    "language_info": {
      "name": "python"
    }
  },
  "cells": [
    {
      "cell_type": "code",
      "execution_count": null,
      "metadata": {
        "id": "U5eFsSzrXBZz"
      },
      "outputs": [],
      "source": [
        "def with_tax(price, tax):\n",
        "    fee = (price * (tax / 100))\n",
        "    return price + fee\n",
        "\n",
        "print(with_tax(110, 10))"
      ]
    }
  ]
}