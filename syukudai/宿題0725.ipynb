{
  "nbformat": 4,
  "nbformat_minor": 0,
  "metadata": {
    "colab": {
      "provenance": []
    },
    "kernelspec": {
      "name": "python3",
      "display_name": "Python 3"
    },
    "language_info": {
      "name": "python"
    }
  },
  "cells": [
    {
      "cell_type": "code",
      "execution_count": 1,
      "metadata": {
        "id": "uTAte2nq7h34"
      },
      "outputs": [],
      "source": [
        "import pandas as pd\n",
        "\n",
        "# CSVファイルの読み込み\n",
        "df = pd.read_csv(\"sample_pandas_6 (1).csv\")\n",
        "\n",
        "# 発注日をdatetime型に変換\n",
        "df[\"発注日\"] = pd.to_datetime(df[\"発注日\"], errors=\"coerce\")\n",
        "\n",
        "# 月と季節を抽出\n",
        "df[\"月\"] = df[\"発注日\"].dt.month\n",
        "df[\"季節\"] = df[\"月\"].map({12: \"冬\", 1: \"冬\", 2: \"冬\",\n",
        "                        3: \"春\", 4: \"春\", 5: \"春\",\n",
        "                        6: \"夏\", 7: \"夏\", 8: \"夏\",\n",
        "                        9: \"秋\", 10: \"秋\", 11: \"秋\"})"
      ]
    },
    {
      "cell_type": "code",
      "source": [
        "df[\"売上\"] = df[\"単価\"] * df[\"注文数\"]"
      ],
      "metadata": {
        "id": "W45bsI8c7tGO"
      },
      "execution_count": 2,
      "outputs": []
    },
    {
      "cell_type": "code",
      "source": [
        "seasonal_sales = df.groupby(\"季節\")[\"売上\"].sum().sort_values(ascending=False)\n",
        "print(seasonal_sales)"
      ],
      "metadata": {
        "colab": {
          "base_uri": "https://localhost:8080/"
        },
        "id": "GyqwX6zt7tJD",
        "outputId": "b65b1070-c366-4325-c993-92d98d1395c5"
      },
      "execution_count": 3,
      "outputs": [
        {
          "output_type": "stream",
          "name": "stdout",
          "text": [
            "季節\n",
            "春    874260\n",
            "秋    770220\n",
            "夏    596340\n",
            "冬    594720\n",
            "Name: 売上, dtype: int64\n"
          ]
        }
      ]
    },
    {
      "cell_type": "code",
      "source": [
        "pivot_table = pd.pivot_table(df, values=\"売上\", index=\"商品名\", columns=\"季節\", aggfunc=\"sum\", fill_value=0)\n",
        "print(pivot_table)"
      ],
      "metadata": {
        "colab": {
          "base_uri": "https://localhost:8080/"
        },
        "id": "ePyMO9q17tMX",
        "outputId": "c00784e2-1477-47c5-9573-a122d9905b0f"
      },
      "execution_count": 4,
      "outputs": [
        {
          "output_type": "stream",
          "name": "stdout",
          "text": [
            "季節                    冬       夏       春       秋\n",
            "商品名                                            \n",
            "商品サンプル 1QJFO8QY   64800   68400  226800  316800\n",
            "商品サンプル 2HSTCDWM    7200   79200   54000   36000\n",
            "商品サンプル 48XMJXKO    9900   11880    9900   39600\n",
            "商品サンプル 8T7D5DQA   15840   11520   29520    6480\n",
            "商品サンプル MESUDVWQ   59400  102960  190080  138600\n",
            "商品サンプル QRMOGNUU  133560  110880   80640   50400\n",
            "商品サンプル S6RE8W6X  138240  120960  138240   82080\n",
            "商品サンプル X0ZE2ZMY    9180     540    9180    8640\n",
            "商品サンプル YY4HAAZR  140400   88920  117000   74880\n",
            "商品サンプル Z4WOOIYV   16200    1080   18900   16740\n"
          ]
        }
      ]
    },
    {
      "cell_type": "code",
      "source": [
        "import matplotlib.pyplot as plt\n",
        "import seaborn as sns\n",
        "\n",
        "sns.boxplot(data=df, x=\"季節\", y=\"売上\")\n",
        "plt.title(\"季節別売上分布\")\n",
        "plt.show()"
      ],
      "metadata": {
        "colab": {
          "base_uri": "https://localhost:8080/",
          "height": 903
        },
        "id": "LlL3zN5d70BG",
        "outputId": "e85dc735-d2b6-4d3e-b8b2-b4f6eda6af11"
      },
      "execution_count": 5,
      "outputs": [
        {
          "output_type": "stream",
          "name": "stderr",
          "text": [
            "/usr/local/lib/python3.11/dist-packages/IPython/core/pylabtools.py:151: UserWarning: Glyph 22770 (\\N{CJK UNIFIED IDEOGRAPH-58F2}) missing from font(s) DejaVu Sans.\n",
            "  fig.canvas.print_figure(bytes_io, **kw)\n",
            "/usr/local/lib/python3.11/dist-packages/IPython/core/pylabtools.py:151: UserWarning: Glyph 19978 (\\N{CJK UNIFIED IDEOGRAPH-4E0A}) missing from font(s) DejaVu Sans.\n",
            "  fig.canvas.print_figure(bytes_io, **kw)\n",
            "/usr/local/lib/python3.11/dist-packages/IPython/core/pylabtools.py:151: UserWarning: Glyph 23395 (\\N{CJK UNIFIED IDEOGRAPH-5B63}) missing from font(s) DejaVu Sans.\n",
            "  fig.canvas.print_figure(bytes_io, **kw)\n",
            "/usr/local/lib/python3.11/dist-packages/IPython/core/pylabtools.py:151: UserWarning: Glyph 31680 (\\N{CJK UNIFIED IDEOGRAPH-7BC0}) missing from font(s) DejaVu Sans.\n",
            "  fig.canvas.print_figure(bytes_io, **kw)\n",
            "/usr/local/lib/python3.11/dist-packages/IPython/core/pylabtools.py:151: UserWarning: Glyph 21029 (\\N{CJK UNIFIED IDEOGRAPH-5225}) missing from font(s) DejaVu Sans.\n",
            "  fig.canvas.print_figure(bytes_io, **kw)\n",
            "/usr/local/lib/python3.11/dist-packages/IPython/core/pylabtools.py:151: UserWarning: Glyph 20998 (\\N{CJK UNIFIED IDEOGRAPH-5206}) missing from font(s) DejaVu Sans.\n",
            "  fig.canvas.print_figure(bytes_io, **kw)\n",
            "/usr/local/lib/python3.11/dist-packages/IPython/core/pylabtools.py:151: UserWarning: Glyph 24067 (\\N{CJK UNIFIED IDEOGRAPH-5E03}) missing from font(s) DejaVu Sans.\n",
            "  fig.canvas.print_figure(bytes_io, **kw)\n",
            "/usr/local/lib/python3.11/dist-packages/IPython/core/pylabtools.py:151: UserWarning: Glyph 26149 (\\N{CJK UNIFIED IDEOGRAPH-6625}) missing from font(s) DejaVu Sans.\n",
            "  fig.canvas.print_figure(bytes_io, **kw)\n",
            "/usr/local/lib/python3.11/dist-packages/IPython/core/pylabtools.py:151: UserWarning: Glyph 31179 (\\N{CJK UNIFIED IDEOGRAPH-79CB}) missing from font(s) DejaVu Sans.\n",
            "  fig.canvas.print_figure(bytes_io, **kw)\n",
            "/usr/local/lib/python3.11/dist-packages/IPython/core/pylabtools.py:151: UserWarning: Glyph 22799 (\\N{CJK UNIFIED IDEOGRAPH-590F}) missing from font(s) DejaVu Sans.\n",
            "  fig.canvas.print_figure(bytes_io, **kw)\n",
            "/usr/local/lib/python3.11/dist-packages/IPython/core/pylabtools.py:151: UserWarning: Glyph 20908 (\\N{CJK UNIFIED IDEOGRAPH-51AC}) missing from font(s) DejaVu Sans.\n",
            "  fig.canvas.print_figure(bytes_io, **kw)\n"
          ]
        },
        {
          "output_type": "display_data",
          "data": {
            "text/plain": [
              "<Figure size 640x480 with 1 Axes>"
            ],
            "image/png": "[encoded data removed]"
          },
          "metadata": {}
        }
      ]
    },
    {
      "cell_type": "code",
      "source": [],
      "metadata": {
        "id": "SDp3wyGY70Dv"
      },
      "execution_count": null,
      "outputs": []
    },
    {
      "cell_type": "code",
      "source": [],
      "metadata": {
        "id": "2Ukt1AGx70IN"
      },
      "execution_count": null,
      "outputs": []
    }
  ]
}